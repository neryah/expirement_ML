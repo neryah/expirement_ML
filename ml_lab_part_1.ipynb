{
 "cells": [
  {
   "cell_type": "markdown",
   "metadata": {},
   "source": [
    "# <img src=\"https://img.icons8.com/dusk/64/000000/mind-map.png\" style=\"height:50px;display:inline\"> EE 044165/6 - Technion - Intro to Machine Learning Lab\n",
    "\n",
    "## Part 1 - Loading the Data, Pre-Processing and Naive Bayes\n",
    "\n",
    "### <img src=\"https://img.icons8.com/bubbles/50/000000/checklist.png\" style=\"height:50px;display:inline\"> Agenda\n",
    "\n",
    "* Loading the Data\n",
    "* Data Representation\n",
    "* Train-Test Separation\n",
    "* Naive Bayes\n",
    "\n",
    "#### Notes\n",
    "* To run a code block, select it (with mouse) and press Ctrl + Enter to run it or Shift + Enter to run it and move on to the next block.\n",
    "* To get description of functions and classes, run `help(name_of_function)`.\n",
    "* To dislplay lines in the code block, select the block, press ESC and then 'L'."
   ]
  },
  {
   "cell_type": "code",
   "execution_count": 158,
   "metadata": {},
   "outputs": [],
   "source": [
    "# imports for the lab\n",
    "import numpy as np\n",
    "import pandas as pd\n",
    "from scipy.sparse import csr_matrix\n",
    "from sklearn.model_selection import train_test_split\n",
    "import matplotlib.pyplot as plt\n",
    "from helper_functions import email_pipeline\n",
    "from tqdm import tqdm"
   ]
  },
  {
   "cell_type": "markdown",
   "metadata": {},
   "source": [
    "### <img src=\"https://img.icons8.com/dusk/64/000000/handshake.png\" style=\"height:50px;display:inline\"> Get to Know the Data\n",
    "The data consists of 3,500 real e-mails from Spam Assassing. We will use `pandas` to load and read the data. Then, we will take a look at a sample of the data."
   ]
  },
  {
   "cell_type": "code",
   "execution_count": 159,
   "metadata": {},
   "outputs": [
    {
     "name": "stdout",
     "output_type": "stream",
     "text": [
      "number of samples: 3052\n",
      "number of spam emails: 501\n",
      "number of ham emails: 2551\n"
     ]
    },
    {
     "data": {
      "text/html": [
       "<div>\n",
       "<style scoped>\n",
       "    .dataframe tbody tr th:only-of-type {\n",
       "        vertical-align: middle;\n",
       "    }\n",
       "\n",
       "    .dataframe tbody tr th {\n",
       "        vertical-align: top;\n",
       "    }\n",
       "\n",
       "    .dataframe thead th {\n",
       "        text-align: right;\n",
       "    }\n",
       "</style>\n",
       "<table border=\"1\" class=\"dataframe\">\n",
       "  <thead>\n",
       "    <tr style=\"text-align: right;\">\n",
       "      <th></th>\n",
       "      <th>To</th>\n",
       "      <th>From</th>\n",
       "      <th>Subject</th>\n",
       "      <th>Content</th>\n",
       "      <th>Label</th>\n",
       "    </tr>\n",
       "  </thead>\n",
       "  <tbody>\n",
       "    <tr>\n",
       "      <th>707</th>\n",
       "      <td>FoRK &lt;fork@example.com&gt;</td>\n",
       "      <td>Gregory Alan Bolcer &lt;gbolcer@endeavors.com&gt;</td>\n",
       "      <td>Webex Endeavors</td>\n",
       "      <td>We have a partnership with Webex.  We use thei...</td>\n",
       "      <td>H</td>\n",
       "    </tr>\n",
       "    <tr>\n",
       "      <th>2120</th>\n",
       "      <td>yyyy@example.com</td>\n",
       "      <td>boingboing &lt;rssfeeds@example.com&gt;</td>\n",
       "      <td>Rats' intestines and pigs' teeth</td>\n",
       "      <td>URL: http://boingboing.net/#85497383\\nDate: No...</td>\n",
       "      <td>H</td>\n",
       "    </tr>\n",
       "    <tr>\n",
       "      <th>44</th>\n",
       "      <td>fork@example.com</td>\n",
       "      <td>John Hall &lt;johnhall@evergo.net&gt;</td>\n",
       "      <td>Property rights in the 3rd World (De Soto's My...</td>\n",
       "      <td>\\n\\n&gt; From: fork-admin@xent.com [mailto:fork-a...</td>\n",
       "      <td>H</td>\n",
       "    </tr>\n",
       "    <tr>\n",
       "      <th>1918</th>\n",
       "      <td>yyyy-use-perl@example.com</td>\n",
       "      <td>pudge@perl.org</td>\n",
       "      <td>[use Perl] Stories for 2002-10-07</td>\n",
       "      <td>use Perl Daily Newsletter\\n\\nIn this issue:\\n ...</td>\n",
       "      <td>H</td>\n",
       "    </tr>\n",
       "    <tr>\n",
       "      <th>2010</th>\n",
       "      <td>yyyy@example.com</td>\n",
       "      <td>scripting &lt;rssfeeds@example.com&gt;</td>\n",
       "      <td>Jeremy Zawodny on life in Silicon Valley: \"I c...</td>\n",
       "      <td>URL: http://scriptingnews.userland.com/backiss...</td>\n",
       "      <td>H</td>\n",
       "    </tr>\n",
       "    <tr>\n",
       "      <th>491</th>\n",
       "      <td>\"Mr. FoRK\" &lt;fork_list@hotmail.com&gt;</td>\n",
       "      <td>Tom &lt;tomwhore@slack.net&gt;</td>\n",
       "      <td>Re: CD player UI for toddlers</td>\n",
       "      <td>On Wed, 4 Sep 2002, Mr. FoRK wrote:\\n--]It'd b...</td>\n",
       "      <td>H</td>\n",
       "    </tr>\n",
       "    <tr>\n",
       "      <th>1387</th>\n",
       "      <td>rpm-zzzlist@freshrpms.net</td>\n",
       "      <td>Panu Matilainen &lt;pmatilai@welho.com&gt;</td>\n",
       "      <td>Re: RH 8 no DMA for DVD drive</td>\n",
       "      <td>On Mon, 7 Oct 2002, Jesse Keating wrote:\\n\\n&gt; ...</td>\n",
       "      <td>H</td>\n",
       "    </tr>\n",
       "    <tr>\n",
       "      <th>2191</th>\n",
       "      <td>yyyy@example.com</td>\n",
       "      <td>diveintomark &lt;rssfeeds@example.com&gt;</td>\n",
       "      <td>Colophon 1</td>\n",
       "      <td>URL: http://diveintomark.org/archives/2002/10/...</td>\n",
       "      <td>H</td>\n",
       "    </tr>\n",
       "    <tr>\n",
       "      <th>2340</th>\n",
       "      <td>yyyy@example.com</td>\n",
       "      <td>newscientist &lt;rssfeeds@example.com&gt;</td>\n",
       "      <td>Hurricane Lili closes shuttle Mission Control</td>\n",
       "      <td>URL: http://www.newsisfree.com/click/-3,847794...</td>\n",
       "      <td>H</td>\n",
       "    </tr>\n",
       "    <tr>\n",
       "      <th>286</th>\n",
       "      <td>zzzzteana &lt;zzzzteana@yahoogroups.com&gt;</td>\n",
       "      <td>Tim Chapman &lt;timc@2ubh.com&gt;</td>\n",
       "      <td>[zzzzteana] Worryingly sophisticated bees</td>\n",
       "      <td>Ananova:  \\nBrazilian bees keep their own 'ins...</td>\n",
       "      <td>H</td>\n",
       "    </tr>\n",
       "    <tr>\n",
       "      <th>3026</th>\n",
       "      <td>hbncikzddu@top13.bestoffersonthenet.com</td>\n",
       "      <td>firstever001@top13.bestoffersonthenet.com</td>\n",
       "      <td>ADV: Extended Auto Warranties Here vfafu</td>\n",
       "      <td>Protect your financial well-being.\\nPurchase a...</td>\n",
       "      <td>S</td>\n",
       "    </tr>\n",
       "    <tr>\n",
       "      <th>2263</th>\n",
       "      <td>yyyy@example.com</td>\n",
       "      <td>fark &lt;rssfeeds@example.com&gt;</td>\n",
       "      <td>Man's leg is found 7 miles from a hit and run ...</td>\n",
       "      <td>URL: http://www.newsisfree.com/click/-1,841027...</td>\n",
       "      <td>H</td>\n",
       "    </tr>\n",
       "    <tr>\n",
       "      <th>2885</th>\n",
       "      <td>121@p6044-ipad22marunouchi.tokyo.ocn.ne.jp</td>\n",
       "      <td>\"rite1@reset.jp\"@p6044-ipad22marunouchi.tokyo....</td>\n",
       "      <td>しじみともものコラボレーション</td>\n",
       "      <td>����������������������������\\n���������������R...</td>\n",
       "      <td>S</td>\n",
       "    </tr>\n",
       "    <tr>\n",
       "      <th>2369</th>\n",
       "      <td>yyyy@example.com</td>\n",
       "      <td>newscientist &lt;rssfeeds@example.com&gt;</td>\n",
       "      <td>World's funniest joke revealed</td>\n",
       "      <td>URL: http://www.newsisfree.com/click/-4,851800...</td>\n",
       "      <td>H</td>\n",
       "    </tr>\n",
       "    <tr>\n",
       "      <th>2493</th>\n",
       "      <td>yyyy@example.com</td>\n",
       "      <td>diveintomark &lt;rssfeeds@example.com&gt;</td>\n",
       "      <td>Barney Not Found</td>\n",
       "      <td>URL: http://diveintomark.org/archives/2002/10/...</td>\n",
       "      <td>H</td>\n",
       "    </tr>\n",
       "  </tbody>\n",
       "</table>\n",
       "</div>"
      ],
      "text/plain": [
       "                                              To  \\\n",
       "707                      FoRK <fork@example.com>   \n",
       "2120                            yyyy@example.com   \n",
       "44                              fork@example.com   \n",
       "1918                   yyyy-use-perl@example.com   \n",
       "2010                            yyyy@example.com   \n",
       "491           \"Mr. FoRK\" <fork_list@hotmail.com>   \n",
       "1387                   rpm-zzzlist@freshrpms.net   \n",
       "2191                            yyyy@example.com   \n",
       "2340                            yyyy@example.com   \n",
       "286        zzzzteana <zzzzteana@yahoogroups.com>   \n",
       "3026     hbncikzddu@top13.bestoffersonthenet.com   \n",
       "2263                            yyyy@example.com   \n",
       "2885  121@p6044-ipad22marunouchi.tokyo.ocn.ne.jp   \n",
       "2369                            yyyy@example.com   \n",
       "2493                            yyyy@example.com   \n",
       "\n",
       "                                                   From  \\\n",
       "707         Gregory Alan Bolcer <gbolcer@endeavors.com>   \n",
       "2120                  boingboing <rssfeeds@example.com>   \n",
       "44                      John Hall <johnhall@evergo.net>   \n",
       "1918                                     pudge@perl.org   \n",
       "2010                   scripting <rssfeeds@example.com>   \n",
       "491                            Tom <tomwhore@slack.net>   \n",
       "1387               Panu Matilainen <pmatilai@welho.com>   \n",
       "2191                diveintomark <rssfeeds@example.com>   \n",
       "2340                newscientist <rssfeeds@example.com>   \n",
       "286                         Tim Chapman <timc@2ubh.com>   \n",
       "3026          firstever001@top13.bestoffersonthenet.com   \n",
       "2263                        fark <rssfeeds@example.com>   \n",
       "2885  \"rite1@reset.jp\"@p6044-ipad22marunouchi.tokyo....   \n",
       "2369                newscientist <rssfeeds@example.com>   \n",
       "2493                diveintomark <rssfeeds@example.com>   \n",
       "\n",
       "                                                Subject  \\\n",
       "707                                     Webex Endeavors   \n",
       "2120                   Rats' intestines and pigs' teeth   \n",
       "44    Property rights in the 3rd World (De Soto's My...   \n",
       "1918                  [use Perl] Stories for 2002-10-07   \n",
       "2010  Jeremy Zawodny on life in Silicon Valley: \"I c...   \n",
       "491                       Re: CD player UI for toddlers   \n",
       "1387                      Re: RH 8 no DMA for DVD drive   \n",
       "2191                                         Colophon 1   \n",
       "2340      Hurricane Lili closes shuttle Mission Control   \n",
       "286           [zzzzteana] Worryingly sophisticated bees   \n",
       "3026           ADV: Extended Auto Warranties Here vfafu   \n",
       "2263  Man's leg is found 7 miles from a hit and run ...   \n",
       "2885                                    しじみともものコラボレーション   \n",
       "2369                     World's funniest joke revealed   \n",
       "2493                                   Barney Not Found   \n",
       "\n",
       "                                                Content Label  \n",
       "707   We have a partnership with Webex.  We use thei...     H  \n",
       "2120  URL: http://boingboing.net/#85497383\\nDate: No...     H  \n",
       "44    \\n\\n> From: fork-admin@xent.com [mailto:fork-a...     H  \n",
       "1918  use Perl Daily Newsletter\\n\\nIn this issue:\\n ...     H  \n",
       "2010  URL: http://scriptingnews.userland.com/backiss...     H  \n",
       "491   On Wed, 4 Sep 2002, Mr. FoRK wrote:\\n--]It'd b...     H  \n",
       "1387  On Mon, 7 Oct 2002, Jesse Keating wrote:\\n\\n> ...     H  \n",
       "2191  URL: http://diveintomark.org/archives/2002/10/...     H  \n",
       "2340  URL: http://www.newsisfree.com/click/-3,847794...     H  \n",
       "286   Ananova:  \\nBrazilian bees keep their own 'ins...     H  \n",
       "3026  Protect your financial well-being.\\nPurchase a...     S  \n",
       "2263  URL: http://www.newsisfree.com/click/-1,841027...     H  \n",
       "2885  ����������������������������\\n���������������R...     S  \n",
       "2369  URL: http://www.newsisfree.com/click/-4,851800...     H  \n",
       "2493  URL: http://diveintomark.org/archives/2002/10/...     H  "
      ]
     },
     "execution_count": 159,
     "metadata": {},
     "output_type": "execute_result"
    }
   ],
   "source": [
    "# load the data\n",
    "email_data = pd.read_csv('./email_data.csv')\n",
    "print(\"number of samples: {}\".format(len(email_data)))\n",
    "print(\"number of spam emails: {}\".format(np.sum(email_data.Label == 'S')))\n",
    "print(\"number of ham emails: {}\".format(np.sum(email_data.Label == 'H')))\n",
    "# let's look at 15 random samples from it.\n",
    "email_data.sample(15)"
   ]
  },
  {
   "cell_type": "markdown",
   "metadata": {},
   "source": [
    "### <img src=\"https://img.icons8.com/color/96/000000/transformer.png\" style=\"height:50px;display:inline\"> Represent the Data\n",
    "We will now transform the data into a form which is applicable for the computer, for the algorithms - numbers."
   ]
  },
  {
   "cell_type": "code",
   "execution_count": 160,
   "metadata": {},
   "outputs": [
    {
     "name": "stdout",
     "output_type": "stream",
     "text": [
      "<class 'scipy.sparse.csr.csr_matrix'>\n",
      "  (0, 1)\t1\n",
      "  (0, 4)\t2\n",
      "  (0, 6)\t1\n",
      "  (0, 8)\t1\n",
      "  (0, 13)\t1\n",
      "  (0, 27)\t1\n",
      "  (0, 28)\t1\n",
      "  (0, 35)\t1\n",
      "  (0, 83)\t1\n",
      "  (0, 84)\t1\n",
      "  (0, 85)\t1\n",
      "  (0, 86)\t1\n",
      "  (0, 87)\t1\n",
      "  (0, 88)\t1\n",
      "  (0, 120)\t1\n",
      "  (0, 213)\t1\n",
      "  (0, 214)\t1\n",
      "  (0, 215)\t1\n",
      "  (0, 216)\t1\n",
      "  (0, 217)\t1\n",
      "  (0, 218)\t1\n",
      "  (0, 219)\t1\n",
      "  (0, 220)\t1\n",
      "  (0, 221)\t1\n",
      "  (0, 222)\t1\n",
      "  :\t:\n",
      "  (14, 5)\t1\n",
      "  (14, 6)\t2\n",
      "  (14, 9)\t1\n",
      "  (14, 13)\t1\n",
      "  (14, 14)\t1\n",
      "  (14, 15)\t1\n",
      "  (14, 25)\t1\n",
      "  (14, 27)\t1\n",
      "  (14, 28)\t1\n",
      "  (14, 35)\t1\n",
      "  (14, 36)\t1\n",
      "  (14, 74)\t1\n",
      "  (14, 80)\t1\n",
      "  (14, 83)\t1\n",
      "  (14, 84)\t2\n",
      "  (14, 86)\t1\n",
      "  (14, 87)\t1\n",
      "  (14, 88)\t1\n",
      "  (14, 89)\t1\n",
      "  (14, 119)\t3\n",
      "  (14, 184)\t1\n",
      "  (14, 199)\t1\n",
      "  (14, 206)\t1\n",
      "  (14, 211)\t2\n",
      "  (14, 212)\t2\n"
     ]
    }
   ],
   "source": [
    "# let's separte the Content and the Label for a sample of the data\n",
    "data_sample = email_data.sample(15)\n",
    "X_sample = data_sample['Content'].values\n",
    "y_sample = data_sample['Label'].values == 'S' # 1 Spam, 0 for Ham\n",
    "\n",
    "# transform the data\n",
    "X_sample_augmented = email_pipeline.fit_transform(X_sample)\n",
    "# let's look at what we got\n",
    "print(type(X_sample_augmented))\n",
    "print(X_sample_augmented)"
   ]
  },
  {
   "cell_type": "code",
   "execution_count": 161,
   "metadata": {},
   "outputs": [
    {
     "name": "stdout",
     "output_type": "stream",
     "text": [
      "[[ 0  1  0 ...  0  0  0]\n",
      " [ 0  1  1 ...  0  0  0]\n",
      " [ 0  0  2 ...  0  0  0]\n",
      " ...\n",
      " [76 14  5 ...  0  0  0]\n",
      " [29  4  3 ...  0  0  0]\n",
      " [31  6  2 ...  0  0  0]]\n"
     ]
    }
   ],
   "source": [
    "# from sparse to dense\n",
    "X_sample_augmented = X_sample_augmented.todense()\n",
    "print(X_sample_augmented)"
   ]
  },
  {
   "cell_type": "code",
   "execution_count": 162,
   "metadata": {},
   "outputs": [
    {
     "name": "stdout",
     "output_type": "stream",
     "text": [
      "{'the': 1, 'to': 2, 'of': 3, 'a': 4, 'in': 5, 'and': 6, 'that': 7, 'is': 8, 'on': 9, '>': 10, 'i': 11, 'have': 12, 'not': 13, 'for': 14, 'be': 15, 'they': 16, 'at': 17, 'alberta': 18, 'thi': 19, 'mail': 20, 'it': 21, 'are': 22, 'but': 23, 'do': 24, 'so': 25, 'with': 26, 'url:': 27, 'date:': 28, 'by': 29, 'than': 30, 'like': 31, 'as': 32, 'provinc': 33, 'govern': 34, '[1]': 35, 'hi': 36, 'my': 37, 'from': 38, 'all': 39, 'more': 40, 'some': 41, 'or': 42, 'will': 43, 'even': 44, 'list': 45, 'hear': 46, 'wrote:': 47, 'there': 48, 'you': 49, 'work': 50, 'onli': 51, 'their': 52, 'would': 53, \"i'm\": 54, 'never': 55, '-------------------------------------------------------': 56, 'sfnet': 57, 'email': 58, 'sponsor': 59, 'by:thinkgeek': 60, 'welcom': 61, 'geek': 62, 'heaven': 63, 'http://thinkgeekcom/sf': 64, '_______________________________________________': 65, 'an': 66, 'them': 67, 'much': 68, 'which': 69, 'back': 70, 'guido>': 71, 'other': 72, 'canada': 73, 'ha': 74, 'up': 75, 'someth': 76, 'while': 77, 'eastern': 78, 'how': 79, 'use': 80, 'statement': 81, 'royalti': 82, 'suppli': 83, 'new': 84, 'out': 85, 'link[1]': 86, 'discuss[2]': 87, '[2]': 88, 'number': 89, \"didn't\": 90, 'here': 91, 'java': 92, 'program': 93, 'due': 94, 'class': 95, 'librari': 96, 'been': 97, 'peopl': 98, 'what': 99, 'were': 100, 'quit': 101, 'actual': 102, 'such': 103, 'still': 104, 'after': 105, 'no': 106, 'can': 107, 'canadian': 108, 'popul': 109, 'us': 110, 'receiv': 111, 'though': 112, 'record': 113, 'good': 114, 'senat': 115, 'committe': 116, 'claim': 117, 'contract': 118, 'disney': 119, 'includ': 120, 'probabl': 121, 'tri': 122, 'down': 123, 'too': 124, 'got': 125, 'sep': 126, '2002': 127, 'hous': 128, 'intellectu': 129, 'properti': 130, '10%': 131, 'c': 132, 'if': 133, 'want': 134, 'then': 135, 'your': 136, 'code': 137, 'whi': 138, 'mani': 139, 'consid': 140, 'about': 141, 'seem': 142, 'believ': 143, 'few': 144, 'issu': 145, 'under': 146, 'three': 147, 'ssh': 148, 'thank': 149, 'day': 150, 'skip': 151, 'suppos': 152, 'year': 153, 'current': 154, 'strang': 155, 'wa': 156, 'albertan': 157, 'over': 158, 'ottawa': 159, 'send': 160, 'tax': 161, 'dollar': 162, 'averag': 163, 'represent': 164, 'clear': 165, 'entir': 166, 'long': 167, 'less': 168, 'restrict': 169, 'thing': 170, 'wors': 171, 'case': 172, 'realli': 173, 'goe': 174, 'get': 175, 'first': 176, 'industri': 177, 'made': 178, 'kevin': 179, 'he': 180, 'third': 181, 'hit': 182, 'http://wwwmusicdishcom/mag/id=6675': 183, 'name': 184, 'setup': 185, 'procmail': 186, 'into': 187, 'boniforti': 188, 'flavio': 189, '+39': 190, '0323': 191, 'razor-us': 192, 'razor-users@listssourceforgenet': 193, 'https://listssourceforgenet/lists/listinfo/razor-us': 194, \"artists'\": 195, 'artist': 196, 'show': 197, 'consult': 198, 'who': 199, 'lead': 200, 'sherman': 201, 'riaa': 202, 'him': 203, 'sue': 204, 'call': 205, 'sale': 206, 'had': 207, 'free': 208, 'europ': 209, 'scan': 210, 'presid': 211, 'park': 212, 'http://boingboingnet/#85534328': 213, 'neiman': 214, 'marcu': 215, 'christma': 216, 'catalog': 217, '(in': 218, 'october)': 219, 'you-as-an-action-figur': 220, '($7500)': 221, 'bamboo': 222, 'hut': 223, '($15000)': 224, 'leather': 225, 'frisbe': 226, '($30)': 227, 'http://wwwneimanmarcuscom/store/sitelets/christmasbook2002/fchtmnavaction=jump&promo=home2': 228, 'http://wwwquicktopiccom/boing/h/swabfegyb5u4c': 229, 'http://wwwaaronswcom/weblog/000622': 230, '2002-09-30t17:28:45-06:00': 231, 'aaron': 232, 'warchalk': 233, 'public': 234, \"radio'\": 235, 'marketplac': 236, 'tomorrow': 237, 'cut': 238, '\"you': 239, 'know\"': 240, 'well': 241, ':-(': 242, \"i'll\": 243, 'keep': 244, 'rita': 245, 'read': 246, 'lipstick': 247, 'live': 248, 'amsterdam': 249, 'sent': 250, 'unsolicit': 251, 'error': 252, '[': 253, 'click': 254, ']': 255, 'remov': 256, 'our': 257, 'subscrib': 258, 'fuclcxlequtkbfuoeseysgfu': 259, 'sitescooper-talk': 260, 'sitescooper-talk@listssourceforgenet': 261, 'https://listssourceforgenet/lists/listinfo/sitescooper-talk': 262, 'http://scriptingnewsuserlandcom/backissues/2002/09/25#when:12:25:19pm': 263, 'wed': 264, '25': 265, '19:25:19': 266, 'gmt': 267, 'ed': 268, 'cone[1]:': 269, '\"the': 270, 'subcommitte': 271, 'court': 272, 'internet': 273, 'hold': 274, \"'piraci\": 275, 'peer-to-p': 276, \"networks'\": 277, '9am': 278, 'thursday': 279, 'septemb': 280, '26': 281, '(2141': 282, 'rayburn': 283, 'offic': 284, 'building)': 285, 'berman-cobl': 286, 'bill': 287, 'discuss': 288, 'open': 289, 'press\"': 290, 'http://radioweblogscom/0107946/2002/09/25html#a187': 291, 'glm': 292, '>and': 293, 'extens': 294, 'weigh': 295, '>in': 296, 'line': 297, 'equival': 298, 'qed': 299, 'quod': 300, 'erat': 301, 'demonstrandum': 302, 'massiv': 303, 'amount': 304, 'fortran': 305, 'pick': 306, 'obviou': 307, 'exampl': 308, 'linear': 309, 'algebra': 310, \"isn't\": 311, 'seriou': 312, 'candid': 313, 'furthermor': 314, 'plenti': 315, 'bug': 316, 'occur': 317, 'lower': 318, 'rate': 319, 'user': 320, 'bitten': 321, 'harder': 322, 'fix': 323, 'own': 324, 'outsid': 325, \"sun'\": 326, 'market': 327, 'depart': 328, '\"write': 329, 'onc': 330, 'debug': 331, 'everywhere\"': 332, 'r': 333, 'tue': 334, '2002-09-17': 335, '12:50': 336, 'justin': 337, 'mason': 338, 'tibetan': 339, 'buddhism': 340, 'btw': 341, 'aw': 342, 'nice': 343, 'bunch': 344, 'chap': 345, '(and': 346, 'chapesses)': 347, 'rule': 348, 'feudal': 349, 'farm': 350, 'societi': 351, 'time;': 352, 'certainli': 353, 'everyon': 354, 'tibet': 355, 'excit': 356, 'dalai': 357, 'lama': 358, 'hollywood': 359, 'appear': 360, '[not': 361, 'chines': 362, 'better': 363, 'rights-wis': 364, \"they'v\": 365, 'built': 366, 'road': 367, 'led': 368, 'creation': 369, 'merchant': 370, 'exist': 371, 'tibetans]': 372, 'lui': 373, 'wow': 374, 'repli': 375, 'alreadi': 376, 'recommend': 377, '-': 378, 'joe': 379, 'again': 380, 'firewal': 381, 'miss': 382, \"x10'\": 383, 'activ': 384, 'icon': 385, 'therefor': 386, 'propos': 387, 'nuke': 388, 'gbayespi': 389, 'ad': 390, '-u': 391, 'featur': 392, 'anyon': 393, 'against': 394, '(i': 395, 'imagin': 396, 'barri': 397, 'might': 398, 'stake': 399, 'gbayespy;': 400, 'tim': 401, 'move': 402, \"he'\": 403, 'modules)': 404, 'argument': 405, 'mon': 406, '2002-10-07': 407, '12:48': 408, 'owen': 409, 'byrn': 410, '\"loos': 411, 'confederation\"': 412, '2': 413, 'found': 414, 'nation': 415, '(french': 416, 'english)': 417, 'cite': 418, 'success': 419, 'juri': 420, 'far': 421, 'brief': 422, 'rebellion': 423, 'referendum': 424, 'togeth': 425, '130+': 426, 'lesser': 427, 'extent': 428, 'western': 429, 'definit': 430, 'happi': 431, 'arrang': 432, 'way': 433, 'structur': 434, 'when': 435, 'last': 436, '(a': 437, 'month': 438, 'ago)': 439, 'newspap': 440, 'report': 441, '70%': 442, 'favor': 443, 'separ': 444, 'sever': 445, 'distinct': 446, 'problem': 447, 'basic': 448, 'econom': 449, 'powerhous': 450, 'prop': 451, 'weaker': 452, 'economi': 453, 'interest': 454, 'openli': 455, 'unapologet': 456, 'ignor': 457, 'twice': 458, 'per': 459, 'capita': 460, 'token': 461, 'feder': 462, 'exactli': 463, 'base': 464, 'smaller': 465, 'citi': 466, 'calgari': 467, 'alon': 468, 'substanti': 469, 'repres': 470, 'legislatur': 471, 'short': 472, 'person': 473, 'atm': 474, 'machin': 475, 'social': 476, 'throw': 477, 'bone': 478, 'abl': 479, 'becaus': 480, 'spars': 481, 'out-vot': 482, 'despit': 483, 'fewer': 484, 'regul': 485, 'appli': 486, 'certain': 487, 'end': 488, 'obscen': 489, 'essenti': 490, 'version': 491, 'happen': 492, 'inter-mountain': 493, 'west': 494, 'unlik': 495, 'rest': 496, 'hurt': 497, \"weren't\": 498, 'those': 499, 'otoh': 500}\n"
     ]
    }
   ],
   "source": [
    "# let's look at the vocabulary\n",
    "dictionary = email_pipeline.get_params()['Wordcount to Vector'].vocabulary_\n",
    "print(dictionary)"
   ]
  },
  {
   "cell_type": "markdown",
   "metadata": {},
   "source": [
    "### <img src=\"https://img.icons8.com/flat_round/64/000000/split.png\" style=\"height:50px;display:inline\"> Split the Data\n",
    "We will now split the data into train and test sets, so we can train and evaluate our algorithms."
   ]
  },
  {
   "cell_type": "code",
   "execution_count": 163,
   "metadata": {},
   "outputs": [],
   "source": [
    "def mlab_train_test_split(X, y, test_size=0.2):\n",
    "    \"\"\"\n",
    "    :param X: features\n",
    "    :param y: labels\n",
    "    :param test_size: test set size in percentage (0 < test_size < 1)\n",
    "    :return X_train, X_test, y_train, y_test\n",
    "    \"\"\"\n",
    "    num_train = int((1 - test_size) * X.shape[0])\n",
    "    rand_gen = np.random.RandomState()\n",
    "    indices = rand_gen.permutation(len(X))\n",
    "    X = X[indices]\n",
    "    y = y[indices]\n",
    "    \n",
    "    X_train = X[:num_train]\n",
    "    y_train = y[:num_train]\n",
    "    X_test = X[num_train:]\n",
    "    y_test = y[num_train:]\n",
    "    \n",
    "    return X_train, X_test, y_train, y_test"
   ]
  },
  {
   "cell_type": "code",
   "execution_count": 164,
   "metadata": {},
   "outputs": [
    {
     "name": "stdout",
     "output_type": "stream",
     "text": [
      "num train samples: 2441\n",
      "num test samples: 611\n",
      "shape after augmentaion: (2441, 501)\n",
      "fraction of spam in the original: 0.16415465268676277\n",
      "fraction of spam in the train set: 0.16058992216304793\n"
     ]
    }
   ],
   "source": [
    "# test your function\n",
    "X = email_data['Content'].values\n",
    "y = email_data['Label'].values == 'S' # 1 Spam, 0 for Ham\n",
    "# split\n",
    "X_train, X_test, y_train, y_test = mlab_train_test_split(X, y, test_size=0.2)\n",
    "# transform\n",
    "X_train_augmented = email_pipeline.fit_transform(X_train)\n",
    "X_test_augmented = email_pipeline.transform(X_test)\n",
    "\n",
    "print(\"num train samples: {}\".format(X_train.shape[0]))\n",
    "print(\"num test samples: {}\".format(X_test.shape[0]))\n",
    "print(\"shape after augmentaion: {}\".format(X_train_augmented.shape))\n",
    "print(\"fraction of spam in the original: {}\".format(np.sum(y == 1) / y.shape[0]))\n",
    "print(\"fraction of spam in the train set: {}\".format(np.sum(y_train == 1) / y_train.shape[0]))"
   ]
  },
  {
   "cell_type": "markdown",
   "metadata": {},
   "source": [
    "#### Note\n",
    "Since the function you wrote does not consider the fraction of each class in the set, we will use the `train_test_split` from Scikit-Learn"
   ]
  },
  {
   "cell_type": "code",
   "execution_count": 165,
   "metadata": {},
   "outputs": [
    {
     "name": "stdout",
     "output_type": "stream",
     "text": [
      "num train samples: 2441\n",
      "num test samples: 611\n",
      "shape after augmentaion: (2441, 501)\n",
      "fraction of spam in the original: 0.16415465268676277\n",
      "fraction of spam in the train set: 0.1638672675133142\n"
     ]
    }
   ],
   "source": [
    "# split\n",
    "X_train, X_test, y_train, y_test = train_test_split(X, y, test_size=0.2)\n",
    "# transform\n",
    "X_train_augmented = email_pipeline.fit_transform(X_train)\n",
    "X_test_augmented = email_pipeline.transform(X_test)\n",
    "\n",
    "print(\"num train samples: {}\".format(X_train.shape[0]))\n",
    "print(\"num test samples: {}\".format(X_test.shape[0]))\n",
    "print(\"shape after augmentaion: {}\".format(X_train_augmented.shape))\n",
    "print(\"fraction of spam in the original: {}\".format(np.sum(y == 1) / y.shape[0]))\n",
    "print(\"fraction of spam in the train set: {}\".format(np.sum(y_train == 1) / y_train.shape[0]))"
   ]
  },
  {
   "cell_type": "markdown",
   "metadata": {},
   "source": [
    "### <img src=\"https://img.icons8.com/color/96/000000/rubiks-cube.png\" style=\"height:50px;display:inline\"> Naive Bayes\n",
    "We will now implement the Naive Bayes algorithm, using the Scikit-Learn formulation.\n",
    "Each ML algorithm has 2 methods:\n",
    "1. `fit` - Traning stage. the algorithm receives $X_{train}$, $y_{train}$, and learns the parameters to perform classification.\n",
    "2. `predict` - The algorithm uses the learned parameters to perform prediction on $X_{test}$.\n",
    "\n",
    "\n",
    "* For the likelihood parameters calculation, you can use the pre-made function `calc_likelihood_params`. Read its description and how to use it."
   ]
  },
  {
   "cell_type": "code",
   "execution_count": 166,
   "metadata": {},
   "outputs": [],
   "source": [
    "\"\"\"\n",
    "The following function calculates the likelihood parameters of each distribution. \n",
    "Please take some time to understand how it works.\n",
    "\"\"\"\n",
    "\n",
    "def calc_likelihood_params(X, y, dist_type=\"gaussian\", c=1, num_classes=2):\n",
    "    \"\"\"\n",
    "    Calculate the likelihood P(X|y,theta)\n",
    "    :param X: features\n",
    "    :param y: labels\n",
    "    :param dist_type: type of distribution: \"gaussian\", \"bernoulli\", \"multinomial\", \"multinomial_smooth\"\n",
    "    :param c: smoothing parameter for \"multinomial_smooth\"\n",
    "    :param num_classes: number of classes\n",
    "    :return likelihood_params\n",
    "    \"\"\"\n",
    "    params = {'type': dist_type}\n",
    "    if dist_type == 'gaussian':\n",
    "        mu_s = []\n",
    "        sigma_s = []\n",
    "        for i in range(num_classes):\n",
    "            x_i = X[y == i]\n",
    "            mu_s.append(np.mean(x_i, axis=0).reshape(1,-1))\n",
    "            # sigma^2\n",
    "            sigma_s.append(np.mean(np.square(x_i - mu_s[i]), axis=0))\n",
    "        params['mu'] = mu_s\n",
    "        params['sigma'] = sigma_s\n",
    "    elif dist_type == 'bernoulli':\n",
    "        p_s = []\n",
    "        for i in range(num_classes):\n",
    "            x_i = X[y == i]\n",
    "            # change to 0-1\n",
    "            x_i[x_i > 0] = 1\n",
    "            p_s.append(np.mean(x_i, axis=0))\n",
    "        params['p'] = p_s\n",
    "    elif dist_type == 'multinomial':\n",
    "        p_s = []\n",
    "        for i in range(num_classes):\n",
    "            x_i = X[y == i].todense()\n",
    "            T = np.sum(x_i)\n",
    "            p_s.append(np.sum(x_i, axis=0) / T)\n",
    "        params['p'] = p_s\n",
    "    elif dist_type == 'multinomial_smooth':\n",
    "        p_s = []\n",
    "        for i in range(num_classes):\n",
    "            x_i = X[y == i].todense()\n",
    "            T = np.sum(x_i) + c * X.shape[1]\n",
    "            p_s.append((c + np.sum(x_i, axis=0)) / T)\n",
    "        params['p'] = p_s\n",
    "    else:\n",
    "        print(\"unknown distribution!\")\n",
    "        return\n",
    "    return params"
   ]
  },
  {
   "cell_type": "code",
   "execution_count": 167,
   "metadata": {},
   "outputs": [],
   "source": [
    "\"\"\"\n",
    "Implement the Naive Bayes classifier. Complete the code where you are asked to.\n",
    "\"\"\"\n",
    "\n",
    "class MlabNaiveBayes():\n",
    "    \"This class implement a Naive Bayes Classifier\"\n",
    "    def __init__(self, dist_type=\"gaussian\", num_classes=2, use_log_prob=False):\n",
    "        \"\"\"\n",
    "        Initialize the classfier\n",
    "        :param dist_type: type of distribution: \"gaussian\", \"bernoulli\", \"multinomial\", \"multinomial_smooth\"\n",
    "        :param num_classes: number of classes\n",
    "        :param use_log_prob: whether or not to use the log probability instead of the regular probility\n",
    "        \"\"\"\n",
    "        self.dist_type = dist_type\n",
    "        self.num_classes = num_classes\n",
    "        self.priors = None  # no priors\n",
    "        self.likelihood_params = None\n",
    "        self.use_log_prob = use_log_prob\n",
    "        self.last_scores = None\n",
    "        \n",
    "    def fit(self, X, y):\n",
    "        \"\"\"\n",
    "        Train the classfier\n",
    "        :param X: features\n",
    "        :param y: labels\n",
    "        \"\"\"\n",
    "        self.likelihood_params = calc_likelihood_params(X, y, dist_type=self.dist_type)\n",
    "        num_samples = y.shape[0]\n",
    "        priors = {}\n",
    "        for i in range(self.num_classes):\n",
    "            priors[i] = np.sum(X[y==i].shape[0] / X.shape[0])\n",
    "        self.priors = priors\n",
    "        \n",
    "    def predict(self, X):\n",
    "        \"\"\"\n",
    "        Predict labels for features\n",
    "        :param X: features\n",
    "        :return y_pred: predictions\n",
    "        \"\"\"\n",
    "        if self.priors is None or self.likelihood_params is None:\n",
    "            print(\"can't call 'predict' before 'fit'\")\n",
    "            return\n",
    "        if isinstance(X, csr_matrix):\n",
    "            X = X.todense()\n",
    "        self.last_scores = []\n",
    "        y_pred = []\n",
    "        for sample_i in range(X.shape[0]):\n",
    "            sample = X[sample_i, :]\n",
    "            scores = []\n",
    "            if self.dist_type == 'gaussian':\n",
    "                mu_s = self.likelihood_params['mu']\n",
    "                sigma_s = self.likelihood_params['sigma']\n",
    "                for i in range(self.num_classes):\n",
    "                    if np.sum(sigma_s[i] == 0) > 0:\n",
    "                        print(\"Error: cannot predict with Gaussian distribution, Sigma has zeros\")\n",
    "                        return None\n",
    "                    \n",
    "                    likelihood = 1\n",
    "                    for j in range(X.shape[1]):\n",
    "                        likelihood *= 1 / (np.sqrt(sigma_s[0][i, j])) * np.exp(-0.5 * (sample[0,j] - mu_s[0][i, j])**2)\n",
    "                    scores.append(likelihood * self.priors[i])\n",
    "\n",
    "            elif self.dist_type == 'bernoulli':\n",
    "                p_s = self.likelihood_params['p']\n",
    "                # change to 0-1\n",
    "                sample[sample > 0] = 1\n",
    "                for i in range(self.num_classes):\n",
    "                    likelihood = 1\n",
    "                    for j in range(X.shape[1]):\n",
    "                        likelihood *= p_s[i]  if (sample[j] > 0) else (1-p_s[i])\n",
    "                    scores.append(likelihood * self.priors[i])\n",
    "\n",
    "            elif self.dist_type == 'multinomial' or self.dist_type == 'multinomial_smooth':\n",
    "                p_s = self.likelihood_params['p']\n",
    "                for i in range(self.num_classes):\n",
    "                    if self.use_log_prob:\n",
    "                        likelihood = np.sum(np.multiply(np.log(p_s[i]), sample), axis=1)\n",
    "                        scores.append(likelihood + np.log(self.priors[i]))\n",
    "                    else:\n",
    "                        \n",
    "                        likelihood = np.exp(np.sum(np.multiply(np.log(p_s[i]), sample), axis=1))\n",
    "                        scores.append(likelihood * self.priors[i])\n",
    "            else:\n",
    "                print(\"unknown distribution!\")\n",
    "                return None\n",
    "            y_pred.append(np.argmax(scores))\n",
    "            self.last_scores.append(scores)\n",
    "        self.last_scores = np.array(self.last_scores)\n",
    "        return y_pred"
   ]
  },
  {
   "cell_type": "code",
   "execution_count": 168,
   "metadata": {},
   "outputs": [
    {
     "name": "stdout",
     "output_type": "stream",
     "text": [
      "Error: cannot predict with Gaussian distribution, Sigma has zeros\n"
     ]
    }
   ],
   "source": [
    "# let's see it in action for the gaussian case\n",
    "# create classifier\n",
    "clf = MlabNaiveBayes(dist_type=\"gaussian\", num_classes=2)\n",
    "# train on train set\n",
    "clf.fit(X_train_augmented, y_train)\n",
    "# predict on test set\n",
    "y_pred = clf.predict(X_test_augmented)"
   ]
  },
  {
   "cell_type": "markdown",
   "metadata": {},
   "source": [
    "* OH NO! WHAT HAPPEND??"
   ]
  },
  {
   "cell_type": "code",
   "execution_count": 170,
   "metadata": {},
   "outputs": [
    {
     "name": "stderr",
     "output_type": "stream",
     "text": [
      "C:\\ProgramData\\Anaconda3\\lib\\site-packages\\ipykernel_launcher.py:81: RuntimeWarning: divide by zero encountered in log\n",
      "C:\\ProgramData\\Anaconda3\\lib\\site-packages\\ipykernel_launcher.py:81: RuntimeWarning: invalid value encountered in multiply\n"
     ]
    },
    {
     "name": "stdout",
     "output_type": "stream",
     "text": [
      "classification error: 0.8346972176759411 (83.46972176759411%)\n"
     ]
    }
   ],
   "source": [
    "# let's see it in action for the multinomial case\n",
    "# create classifier\n",
    "clf = MlabNaiveBayes(dist_type=\"multinomial\", num_classes=2)\n",
    "# train on train set\n",
    "clf.fit(X_train_augmented, y_train)\n",
    "# predict on test set\n",
    "y_pred = clf.predict(X_test_augmented)\n",
    "# calculate the error\n",
    "error = 1 - np.mean(y_pred == y_test)\n",
    "print(\"classification error: {} ({}%)\".format(error, error * 100))"
   ]
  },
  {
   "cell_type": "code",
   "execution_count": 171,
   "metadata": {},
   "outputs": [
    {
     "name": "stdout",
     "output_type": "stream",
     "text": [
      "shape of the posterior values: (611, 2, 1, 1)\n",
      "[[[[0.00000000e+000]]\n",
      "\n",
      "  [[            nan]]]\n",
      "\n",
      "\n",
      " [[[0.00000000e+000]]\n",
      "\n",
      "  [[            nan]]]\n",
      "\n",
      "\n",
      " [[[1.31913682e-253]]\n",
      "\n",
      "  [[            nan]]]\n",
      "\n",
      "\n",
      " [[[0.00000000e+000]]\n",
      "\n",
      "  [[            nan]]]\n",
      "\n",
      "\n",
      " [[[3.19789600e-287]]\n",
      "\n",
      "  [[            nan]]]\n",
      "\n",
      "\n",
      " [[[3.73959936e-154]]\n",
      "\n",
      "  [[            nan]]]\n",
      "\n",
      "\n",
      " [[[7.34933944e-287]]\n",
      "\n",
      "  [[            nan]]]\n",
      "\n",
      "\n",
      " [[[0.00000000e+000]]\n",
      "\n",
      "  [[            nan]]]\n",
      "\n",
      "\n",
      " [[[2.22698461e-029]]\n",
      "\n",
      "  [[            nan]]]\n",
      "\n",
      "\n",
      " [[[0.00000000e+000]]\n",
      "\n",
      "  [[            nan]]]\n",
      "\n",
      "\n",
      " [[[2.39605309e-046]]\n",
      "\n",
      "  [[            nan]]]\n",
      "\n",
      "\n",
      " [[[2.02596902e-109]]\n",
      "\n",
      "  [[            nan]]]\n",
      "\n",
      "\n",
      " [[[0.00000000e+000]]\n",
      "\n",
      "  [[            nan]]]\n",
      "\n",
      "\n",
      " [[[5.90975690e-163]]\n",
      "\n",
      "  [[            nan]]]\n",
      "\n",
      "\n",
      " [[[4.04818484e-136]]\n",
      "\n",
      "  [[            nan]]]\n",
      "\n",
      "\n",
      " [[[1.54204538e-015]]\n",
      "\n",
      "  [[            nan]]]\n",
      "\n",
      "\n",
      " [[[0.00000000e+000]]\n",
      "\n",
      "  [[            nan]]]\n",
      "\n",
      "\n",
      " [[[3.38436742e-145]]\n",
      "\n",
      "  [[            nan]]]\n",
      "\n",
      "\n",
      " [[[3.41148659e-108]]\n",
      "\n",
      "  [[            nan]]]\n",
      "\n",
      "\n",
      " [[[0.00000000e+000]]\n",
      "\n",
      "  [[            nan]]]]\n"
     ]
    }
   ],
   "source": [
    "# let's look at the posterior values\n",
    "print(\"shape of the posterior values: {}\".format(clf.last_scores.shape))\n",
    "# some of them\n",
    "print(clf.last_scores[:20])"
   ]
  },
  {
   "cell_type": "code",
   "execution_count": 172,
   "metadata": {},
   "outputs": [
    {
     "name": "stdout",
     "output_type": "stream",
     "text": [
      "classification error: 0.07855973813420625 (7.855973813420625%)\n"
     ]
    }
   ],
   "source": [
    "# let's see it in action for the smooth multinomial case\n",
    "# create classifier\n",
    "clf = MlabNaiveBayes(dist_type=\"multinomial_smooth\", num_classes=2)\n",
    "# train on train set\n",
    "clf.fit(X_train_augmented, y_train)\n",
    "# predict on test set\n",
    "y_pred = clf.predict(X_test_augmented)\n",
    "# calculate the error\n",
    "error = 1 - np.mean(y_pred == y_test)\n",
    "print(\"classification error: {} ({}%)\".format(error, error * 100))"
   ]
  },
  {
   "cell_type": "code",
   "execution_count": 173,
   "metadata": {},
   "outputs": [
    {
     "name": "stdout",
     "output_type": "stream",
     "text": [
      "current train size: 0.1\n"
     ]
    },
    {
     "name": "stderr",
     "output_type": "stream",
     "text": [
      "100%|██████████| 20/20 [00:45<00:00,  2.28s/it]\n"
     ]
    },
    {
     "name": "stdout",
     "output_type": "stream",
     "text": [
      "current train size: 0.2\n"
     ]
    },
    {
     "name": "stderr",
     "output_type": "stream",
     "text": [
      "100%|██████████| 20/20 [00:57<00:00,  2.82s/it]\n"
     ]
    },
    {
     "name": "stdout",
     "output_type": "stream",
     "text": [
      "current train size: 0.4\n"
     ]
    },
    {
     "name": "stderr",
     "output_type": "stream",
     "text": [
      "100%|██████████| 20/20 [01:22<00:00,  4.04s/it]\n"
     ]
    },
    {
     "name": "stdout",
     "output_type": "stream",
     "text": [
      "current train size: 0.8\n"
     ]
    },
    {
     "name": "stderr",
     "output_type": "stream",
     "text": [
      "100%|██████████| 20/20 [02:13<00:00,  6.68s/it]\n"
     ]
    },
    {
     "name": "stdout",
     "output_type": "stream",
     "text": [
      "current train size: 1\n"
     ]
    },
    {
     "name": "stderr",
     "output_type": "stream",
     "text": [
      "100%|██████████| 20/20 [02:38<00:00,  7.93s/it]\n"
     ]
    }
   ],
   "source": [
    "\"\"\"\n",
    "Analyze the effect of train sets of different sizes\n",
    "\"\"\"\n",
    "num_repeats = 20\n",
    "test_size = 0.2\n",
    "train_sizes = [0.1, 0.2, 0.4, 0.8, 1]\n",
    "test_errors = []\n",
    "test_errors_std = []\n",
    "\n",
    "X = email_data['Content'].values\n",
    "y = email_data['Label'].values == 'S'  # 1 Spam, 0 for Ham\n",
    "\n",
    "\n",
    "for train_size in train_sizes:\n",
    "    current_errors = []\n",
    "    print(\"current train size: {}\".format(train_size))\n",
    "    for n in tqdm(range(num_repeats)):\n",
    "        # pre-process\n",
    "        X_train, X_test, y_train, y_test = train_test_split(X, y, test_size=test_size)\n",
    "        num_train = int(train_size * X_train.shape[0])\n",
    "        X_train = X_train[:num_train]\n",
    "        y_train = y_train[:num_train]\n",
    "\n",
    "        clf = MlabNaiveBayes(dist_type=\"multinomial_smooth\", num_classes=2)\n",
    "        \n",
    "        # Transform\n",
    "        X_train_augmented = email_pipeline.fit_transform(X_train)\n",
    "        X_test_augmented = email_pipeline.transform(X_test)\n",
    "        \n",
    "        # train\n",
    "        clf.fit(X_train_augmented, y_train)\n",
    "        \n",
    "        # test\n",
    "        y_pred = clf.predict(X_test_augmented)\n",
    "        \n",
    "        # calculate error\n",
    "        current_errors.append(1 - np.mean(y_pred == y_test))\n",
    "    test_errors.append(np.mean(current_errors))\n",
    "    test_errors_std.append(np.std(current_errors))"
   ]
  },
  {
   "cell_type": "code",
   "execution_count": 174,
   "metadata": {},
   "outputs": [
    {
     "data": {
      "text/plain": [
       "Text(0.5, 1.0, 'Test Error vs. Train Size (N=20 Repeats)')"
      ]
     },
     "execution_count": 174,
     "metadata": {},
     "output_type": "execute_result"
    },
    {
     "data": {
      "image/png": "[encoded data removed]",
      "text/plain": [
       "<Figure size 720x576 with 1 Axes>"
      ]
     },
     "metadata": {
      "needs_background": "light"
     },
     "output_type": "display_data"
    }
   ],
   "source": [
    "\"\"\"\n",
    "Plot the results\n",
    "\"\"\"\n",
    "fig = plt.figure(figsize=(10, 8))\n",
    "ax = fig.add_subplot(111)\n",
    "ax.errorbar(train_sizes, test_errors, yerr=test_errors_std, uplims=True, lolims=True)\n",
    "ax.set_xlabel(\"train size\")\n",
    "ax.set_ylabel(\"error\")\n",
    "ax.grid()\n",
    "ax.set_title(\"Test Error vs. Train Size (N=20 Repeats)\")"
   ]
  },
  {
   "cell_type": "code",
   "execution_count": 175,
   "metadata": {},
   "outputs": [
    {
     "name": "stdout",
     "output_type": "stream",
     "text": [
      "current train size: 0.1\n"
     ]
    },
    {
     "name": "stderr",
     "output_type": "stream",
     "text": [
      "100%|██████████| 20/20 [00:12<00:00,  1.55it/s]\n"
     ]
    },
    {
     "name": "stdout",
     "output_type": "stream",
     "text": [
      "current train size: 0.2\n"
     ]
    },
    {
     "name": "stderr",
     "output_type": "stream",
     "text": [
      "100%|██████████| 20/20 [00:26<00:00,  1.33s/it]\n"
     ]
    },
    {
     "name": "stdout",
     "output_type": "stream",
     "text": [
      "current train size: 0.4\n"
     ]
    },
    {
     "name": "stderr",
     "output_type": "stream",
     "text": [
      "100%|██████████| 20/20 [00:52<00:00,  2.68s/it]\n"
     ]
    },
    {
     "name": "stdout",
     "output_type": "stream",
     "text": [
      "current train size: 0.8\n"
     ]
    },
    {
     "name": "stderr",
     "output_type": "stream",
     "text": [
      "100%|██████████| 20/20 [01:45<00:00,  5.29s/it]\n"
     ]
    },
    {
     "name": "stdout",
     "output_type": "stream",
     "text": [
      "current train size: 1\n"
     ]
    },
    {
     "name": "stderr",
     "output_type": "stream",
     "text": [
      "100%|██████████| 20/20 [02:11<00:00,  6.58s/it]\n"
     ]
    }
   ],
   "source": [
    "# let's do the same for the evaluation on the train set\n",
    "# repeat for train error\n",
    "num_repeats = 20\n",
    "train_sizes = [0.1, 0.2, 0.4, 0.8, 1]\n",
    "train_errors = []\n",
    "train_errors_std = []\n",
    "\n",
    "X = email_data['Content'].values\n",
    "y = email_data['Label'].values == 'S'  # 1 Spam, 0 for Ham\n",
    "\n",
    "\n",
    "for train_size in train_sizes:\n",
    "    current_errors = []\n",
    "    print(\"current train size: {}\".format(train_size))\n",
    "    for n in tqdm(range(num_repeats)):\n",
    "        # pre-process\n",
    "        X_train, X_test, y_train, y_test = train_test_split(X, y, test_size=test_size)\n",
    "        num_train = int(train_size * X_train.shape[0])\n",
    "        X_train = X_train[:num_train]\n",
    "        y_train = y_train[:num_train]\n",
    "        \"\"\"\n",
    "        Your Code Here\n",
    "        \"\"\"\n",
    "        clf = MlabNaiveBayes(dist_type=\"multinomial_smooth\", num_classes=2)\n",
    "        \n",
    "        # Transform\n",
    "        X_train_augmented = email_pipeline.fit_transform(X_train)\n",
    "        \n",
    "        # train\n",
    "        clf.fit(X_train_augmented, y_train)\n",
    "        \n",
    "        # test\n",
    "        y_pred = clf.predict(X_train_augmented)\n",
    "        \n",
    "        # calculate error\n",
    "        current_errors.append(1 - np.mean(y_pred == y_train))\n",
    "    train_errors.append(np.mean(current_errors))\n",
    "    train_errors_std.append(np.std(current_errors))"
   ]
  },
  {
   "cell_type": "code",
   "execution_count": 176,
   "metadata": {},
   "outputs": [
    {
     "data": {
      "text/plain": [
       "Text(0.5, 1.0, 'Test & Train Error vs. Train Size (N=20 Repeats)')"
      ]
     },
     "execution_count": 176,
     "metadata": {},
     "output_type": "execute_result"
    },
    {
     "data": {
      "image/png": "[encoded data removed]",
      "text/plain": [
       "<Figure size 720x576 with 1 Axes>"
      ]
     },
     "metadata": {
      "needs_background": "light"
     },
     "output_type": "display_data"
    }
   ],
   "source": [
    "# plot the 2 graphs\n",
    "fig = plt.figure(figsize=(10, 8))\n",
    "ax = fig.add_subplot(111)\n",
    "ax.errorbar(train_sizes, test_errors, yerr=test_errors_std, uplims=True, lolims=True, label=\"test_error\")\n",
    "ax.errorbar(train_sizes, train_errors, yerr=train_errors_std, uplims=True, lolims=True, label=\"train_error\")\n",
    "ax.set_xlabel(\"train size\")\n",
    "ax.set_ylabel(\"error\")\n",
    "ax.legend()\n",
    "ax.grid()\n",
    "ax.set_title(\"Test & Train Error vs. Train Size (N=20 Repeats)\")"
   ]
  },
  {
   "cell_type": "code",
   "execution_count": 177,
   "metadata": {},
   "outputs": [
    {
     "name": "stdout",
     "output_type": "stream",
     "text": [
      "classification error: 0.03436988543371522 (3.436988543371522%)\n",
      "the classifier is correct with accuracy of: 96.563%\n"
     ]
    }
   ],
   "source": [
    "# let's see the effect of using log probability\n",
    "# split\n",
    "X_train, X_test, y_train, y_test = train_test_split(X, y, test_size=0.2)\n",
    "# transform\n",
    "X_train_augmented = email_pipeline.fit_transform(X_train)\n",
    "X_test_augmented = email_pipeline.transform(X_test)\n",
    "# create classifier\n",
    "clf = MlabNaiveBayes(dist_type=\"multinomial_smooth\", num_classes=2, use_log_prob=True)\n",
    "# train on train set\n",
    "clf.fit(X_train_augmented, y_train)\n",
    "# predict on test set\n",
    "y_pred = clf.predict(X_test_augmented)\n",
    "# calculate the error\n",
    "error = 1 - np.mean(y_pred == y_test)\n",
    "print(\"classification error: {} ({}%)\".format(error, error * 100))\n",
    "print(\"the classifier is correct with accuracy of: {:.3f}%\".format((1 - error) * 100))"
   ]
  },
  {
   "cell_type": "markdown",
   "metadata": {},
   "source": [
    "## <img src=\"https://img.icons8.com/dusk/64/000000/prize.png\" style=\"height:50px;display:inline\"> Credits\n",
    "* Icons from <a href=\"https://icons8.com/\">Icon8.com</a> - https://icons8.com\n",
    "* Datasets from <a href=\"https://www.kaggle.com/\">Kaggle</a> - https://www.kaggle.com/\n",
    "* Notebook made by <a href=\"mailto:taldanielm@campus.technion.ac.il\">Tal Daniel</a>"
   ]
  }
 ],
 "metadata": {
  "kernelspec": {
   "display_name": "Python 3",
   "language": "python",
   "name": "python3"
  },
  "language_info": {
   "codemirror_mode": {
    "name": "ipython",
    "version": 3
   },
   "file_extension": ".py",
   "mimetype": "text/x-python",
   "name": "python",
   "nbconvert_exporter": "python",
   "pygments_lexer": "ipython3",
   "version": "3.7.3"
  }
 },
 "nbformat": 4,
 "nbformat_minor": 2
}
